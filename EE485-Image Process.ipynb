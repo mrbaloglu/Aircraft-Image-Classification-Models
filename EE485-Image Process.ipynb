{
 "cells": [
  {
   "cell_type": "code",
   "execution_count": 1,
   "metadata": {
    "collapsed": true
   },
   "outputs": [],
   "source": [
    "#Process the images into numpy arrays, created in Windows 10 OS.\n"
    "#importing the libraries\n",
    "#import torch\n",
    "import numpy as np\n",
    "import pandas as pd\n",
    "import matplotlib.image as img\n",
    "import matplotlib.pyplot as plt\n",
    "from PIL import Image\n",
    "import os\n",
    "%matplotlib inline"
   ]
  },
  {
   "cell_type": "code",
   "execution_count": 3,
   "metadata": {},
   "outputs": [
    {
     "name": "stdout",
     "output_type": "stream",
     "text": [
      "1304 drone images is found on the directory.\n",
      "1845 fighter images is found on the directory.\n",
      "1352 helicopter images is found on the directory.\n",
      "1217 missile images is found on the directory.\n",
      "1797 passenger plane images is found on the directory.\n",
      "590 rocket images is found on the directory.\n"
     ]
    }
   ],
   "source": [
    "#loading the datasets\n",
    "num_px = 64 #size of the processed image, 32, 64, 128, ... are recommended.\n",
    "root_path = \"---set this as the path to your dataset---"\n",
    "output_path = \"---set this as the path where you want the processed images\\\\cleaned_data\\\\\" + str(num_px) + \"ptx\\\\\"\n",
    "drone_image_path = root_path + \"drone\"\n",
    "fighter_image_path = root_path + \"fighter-jet\"\n",
    "helicopter_image_path = root_path + \"helicopter\"\n",
    "missile_image_path = root_path + \"missile\"\n",
    "plane_image_path = root_path + \"passenger-plane\"\n",
    "rocket_image_path = root_path + \"rocket\"\n",
    "\n",
    "import glob\n",
    "#take all file names in the directory intoa list for each class\n",
    "drone_image_file_list = glob.glob(drone_image_path + \"\\\\*\")\n",
    "fighter_image_file_list = glob.glob(fighter_image_path + \"\\\\*\")\n",
    "helicopter_image_file_list = glob.glob(helicopter_image_path + \"\\\\*\")\n",
    "missile_image_file_list = glob.glob(missile_image_path + \"\\\\*\")\n",
    "plane_image_file_list = glob.glob(plane_image_path + \"\\\\*\")\n",
    "rocket_image_file_list = glob.glob(rocket_image_path + \"\\\\*\")\n",
    "\n",
    "#datasets summary\n",
    "print(str(len(drone_image_file_list)) + \" drone images is found on the directory.\")\n",
    "print(str(len(fighter_image_file_list)) + \" fighter images is found on the directory.\")\n",
    "print(str(len(helicopter_image_file_list)) + \" helicopter images is found on the directory.\")\n",
    "print(str(len(missile_image_file_list)) + \" missile images is found on the directory.\")\n",
    "print(str(len(plane_image_file_list)) + \" passenger plane images is found on the directory.\")\n",
    "print(str(len(rocket_image_file_list)) + \" rocket images is found on the directory.\")\n"
   ]
  },
  {
   "cell_type": "code",
   "execution_count": 4,
   "metadata": {
    "collapsed": true
   },
   "outputs": [],
   "source": [
    "#processing the images from image to numpy arrays\n",
    "drone_images = []\n",
    "for img_file in drone_image_file_list:\n",
    "    try:\n",
    "      im = Image.open(img_file)\n",
    "      im = np.asarray(im.resize((num_px,num_px), Image.ANTIALIAS)) #resize all images to 256*256 as (256,256,3) numpy arrays\n",
    "      drone_images.append(im)\n",
    "    except:\n",
    "        IOError"
   ]
  },
  {
   "cell_type": "code",
   "execution_count": 5,
   "metadata": {
    "collapsed": true
   },
   "outputs": [],
   "source": [
    "fighter_images = []\n",
    "for img_file in fighter_image_file_list:\n",
    "    try:\n",
    "      im = Image.open(img_file)\n",
    "      im = np.asarray(im.resize((num_px,num_px), Image.ANTIALIAS)) #resize all images to 256*256 as (256,256,3) numpy arrays\n",
    "      fighter_images.append(im)\n",
    "    except:\n",
    "        IOError"
   ]
  },
  {
   "cell_type": "code",
   "execution_count": 6,
   "metadata": {
    "collapsed": true
   },
   "outputs": [],
   "source": [
    "helicopter_images = []\n",
    "for img_file in helicopter_image_file_list:\n",
    "    try:\n",
    "      im = Image.open(img_file)\n",
    "      im = np.asarray(im.resize((num_px,num_px), Image.ANTIALIAS)) #resize all images to 256*256 as (256,256,3) numpy arrays\n",
    "      helicopter_images.append(im)\n",
    "    except:\n",
    "        IOError"
   ]
  },
  {
   "cell_type": "code",
   "execution_count": 7,
   "metadata": {
    "collapsed": true
   },
   "outputs": [],
   "source": [
    "missile_images = []\n",
    "for img_file in missile_image_file_list:\n",
    "    try:\n",
    "      im = Image.open(img_file)\n",
    "      im = np.asarray(im.resize((num_px,num_px), Image.ANTIALIAS)) #resize all images to 256*256 as (256,256,3) numpy arrays\n",
    "      missile_images.append(im)\n",
    "    except:\n",
    "        IOError"
   ]
  },
  {
   "cell_type": "code",
   "execution_count": 8,
   "metadata": {
    "collapsed": true
   },
   "outputs": [],
   "source": [
    "plane_images = []\n",
    "for img_file in plane_image_file_list:\n",
    "    try:\n",
    "      im = Image.open(img_file)\n",
    "      im = np.asarray(im.resize((num_px,num_px), Image.ANTIALIAS)) #resize all images to 256*256 as (256,256,3) numpy arrays\n",
    "      plane_images.append(im)\n",
    "    except:\n",
    "        IOError"
   ]
  },
  {
   "cell_type": "code",
   "execution_count": 9,
   "metadata": {
    "collapsed": true
   },
   "outputs": [],
   "source": [
    "rocket_images = []\n",
    "for img_file in rocket_image_file_list:\n",
    "    try:\n",
    "      im = Image.open(img_file)\n",
    "      im = np.asarray(im.resize((num_px,num_px), Image.ANTIALIAS)) #resize all images to 256*256 as (256,256,3) numpy arrays\n",
    "      rocket_images.append(im)\n",
    "    except: \n",
    "        IOError"
   ]
  },
  {
   "cell_type": "code",
   "execution_count": 10,
   "metadata": {
    "collapsed": true
   },
   "outputs": [],
   "source": [
    "index_list= []\n",
    "for i in range(len(drone_images)):\n",
    "    if(drone_images[i].shape !=(num_px,num_px,3)):\n",
    "        index_list.append(i)\n",
    "drone_images = [drone_images[i] for i in range(len(drone_images)) if i not in index_list]"
   ]
  },
  {
   "cell_type": "code",
   "execution_count": 11,
   "metadata": {
    "collapsed": true
   },
   "outputs": [],
   "source": [
    "index_list= []\n",
    "for i in range(len(fighter_images)):\n",
    "    if(fighter_images[i].shape !=(num_px,num_px,3)):\n",
    "        index_list.append(i)\n",
    "fighter_images = [fighter_images[i] for i in range(len(fighter_images)) if i not in index_list]"
   ]
  },
  {
   "cell_type": "code",
   "execution_count": 12,
   "metadata": {
    "collapsed": true
   },
   "outputs": [],
   "source": [
    "index_list= []\n",
    "for i in range(len(helicopter_images)):\n",
    "    if(helicopter_images[i].shape !=(num_px,num_px,3)):\n",
    "        index_list.append(i)\n",
    "helicopter_images = [helicopter_images[i] for i in range(len(helicopter_images)) if i not in index_list]"
   ]
  },
  {
   "cell_type": "code",
   "execution_count": 13,
   "metadata": {
    "collapsed": true
   },
   "outputs": [],
   "source": [
    "index_list= []\n",
    "for i in range(len(missile_images)):\n",
    "    if(missile_images[i].shape !=(num_px,num_px,3)):\n",
    "        index_list.append(i)\n",
    "missile_images = [missile_images[i] for i in range(len(missile_images)) if i not in index_list]"
   ]
  },
  {
   "cell_type": "code",
   "execution_count": 14,
   "metadata": {
    "collapsed": true
   },
   "outputs": [],
   "source": [
    "index_list= []\n",
    "for i in range(len(plane_images)):\n",
    "    if(plane_images[i].shape !=(num_px,num_px,3)):\n",
    "        index_list.append(i)\n",
    "plane_images = [plane_images[i] for i in range(len(plane_images)) if i not in index_list]"
   ]
  },
  {
   "cell_type": "code",
   "execution_count": 15,
   "metadata": {
    "collapsed": true
   },
   "outputs": [],
   "source": [
    "index_list= []\n",
    "for i in range(len(rocket_images)):\n",
    "    if(rocket_images[i].shape !=(num_px,num_px,3)):\n",
    "        index_list.append(i)\n",
    "rocket_images = [rocket_images[i] for i in range(len(rocket_images)) if i not in index_list]"
   ]
  },
  {
   "cell_type": "code",
   "execution_count": 17,
   "metadata": {},
   "outputs": [],
   "source": [
    "#save the processed image data to the directory as .npy file (numpy array file)\n",
    "np.save(output_path + \"drone_image_data\", drone_images)\n",
    "np.save(output_path + \"fighter_image_data\", fighter_images)\n",
    "np.save(output_path + \"helicopter_image_data\", helicopter_images)\n",
    "np.save(output_path + \"missile_image_data\", missile_images)\n",
    "np.save(output_path + \"plane_image_data\", plane_images)\n",
    "np.save(output_path + \"rocket_image_data\", rocket_images)"
   ]
  },
  {
   "cell_type": "code",
   "execution_count": 16,
   "metadata": {},
   "outputs": [
    {
     "ename": "NameError",
     "evalue": "name 'labels' is not defined",
     "output_type": "error",
     "traceback": [
      "\u001b[1;31m---------------------------------------------------------------------------\u001b[0m",
      "\u001b[1;31mNameError\u001b[0m                                 Traceback (most recent call last)",
      "\u001b[1;32m<ipython-input-16-6a4ccd51abdd>\u001b[0m in \u001b[0;36m<module>\u001b[1;34m()\u001b[0m\n\u001b[1;32m----> 1\u001b[1;33m \u001b[0mlabels\u001b[0m\u001b[1;33m[\u001b[0m\u001b[1;36m0\u001b[0m\u001b[1;33m]\u001b[0m\u001b[1;33m.\u001b[0m\u001b[0mshape\u001b[0m\u001b[1;33m\u001b[0m\u001b[1;33m\u001b[0m\u001b[0m\n\u001b[0m",
      "\u001b[1;31mNameError\u001b[0m: name 'labels' is not defined"
     ]
    }
   ],
   "source": [
    "labels[0].shape"
   ]
  }
 ],
 "metadata": {
  "kernelspec": {
   "display_name": "Python 3",
   "language": "python",
   "name": "python3"
  },
  "language_info": {
   "codemirror_mode": {
    "name": "ipython",
    "version": 3
   },
   "file_extension": ".py",
   "mimetype": "text/x-python",
   "name": "python",
   "nbconvert_exporter": "python",
   "pygments_lexer": "ipython3",
   "version": "3.6.8"
  }
 },
 "nbformat": 4,
 "nbformat_minor": 2
}
