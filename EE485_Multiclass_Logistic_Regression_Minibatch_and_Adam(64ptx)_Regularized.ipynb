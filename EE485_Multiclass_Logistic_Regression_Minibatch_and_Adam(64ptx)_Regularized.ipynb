{
  "nbformat": 4,
  "nbformat_minor": 0,
  "metadata": {
    "kernelspec": {
      "display_name": "Python 3",
      "language": "python",
      "name": "python3"
    },
    "language_info": {
      "codemirror_mode": {
        "name": "ipython",
        "version": 3
      },
      "file_extension": ".py",
      "mimetype": "text/x-python",
      "name": "python",
      "nbconvert_exporter": "python",
      "pygments_lexer": "ipython3",
      "version": "3.6.8"
    },
    "colab": {
      "name": "EE485-Multiclass Logistic Regression - Minibatch and Adam(64ptx)-Regularized.ipynb",
      "provenance": [],
      "collapsed_sections": []
    }
  },
  "cells": [
    {
      "cell_type": "code",
      "metadata": {
        "scrolled": true,
        "id": "V7eOm4LG92QL",
        "colab_type": "code",
        "colab": {}
      },
      "source": [
        "import numpy as np\n",
        "import matplotlib.pyplot as plt\n",
        "%matplotlib inline"
      ],
      "execution_count": null,
      "outputs": []
    },
    {
      "cell_type": "code",
      "metadata": {
        "id": "xC_Mlm1d98l0",
        "colab_type": "code",
        "colab": {
          "base_uri": "https://localhost:8080/",
          "height": 121
        },
        "outputId": "bad56c2b-d60b-4956-f5b7-8156e914d975"
      },
      "source": [
        "from google.colab import drive\n",
        "drive.mount('/content/drive')"
      ],
      "execution_count": null,
      "outputs": [
        {
          "output_type": "stream",
          "text": [
            "Go to this URL in a browser: https://accounts.google.com/o/oauth2/auth?client_id=947318989803-6bn6qk8qdgf4n4g3pfee6491hc0brc4i.apps.googleusercontent.com&redirect_uri=urn%3aietf%3awg%3aoauth%3a2.0%3aoob&response_type=code&scope=email%20https%3a%2f%2fwww.googleapis.com%2fauth%2fdocs.test%20https%3a%2f%2fwww.googleapis.com%2fauth%2fdrive%20https%3a%2f%2fwww.googleapis.com%2fauth%2fdrive.photos.readonly%20https%3a%2f%2fwww.googleapis.com%2fauth%2fpeopleapi.readonly\n",
            "\n",
            "Enter your authorization code:\n",
            "··········\n",
            "Mounted at /content/drive\n"
          ],
          "name": "stdout"
        }
      ]
    },
    {
      "cell_type": "code",
      "metadata": {
        "id": "E2FY_5xD-9sJ",
        "colab_type": "code",
        "colab": {
          "base_uri": "https://localhost:8080/",
          "height": 34
        },
        "outputId": "200bbd09-244d-4cf7-9e90-3555e808c866"
      },
      "source": [
        "cd drive/My\\ Drive/aircraft_data_64ptx"
      ],
      "execution_count": null,
      "outputs": [
        {
          "output_type": "stream",
          "text": [
            "/content/drive/My Drive/aircraft_data_64ptx\n"
          ],
          "name": "stdout"
        }
      ]
    },
    {
      "cell_type": "code",
      "metadata": {
        "scrolled": true,
        "id": "PND1D1-l92QR",
        "colab_type": "code",
        "colab": {}
      },
      "source": [
        "input_path = \"\"  #\"aircraft_data_64ptx\\\\\"\n",
        "drone_data = np.load(input_path + \"drone_image_data.npy\")\n",
        "fighter_data = np.load(input_path + \"fighter_image_data.npy\")\n",
        "helicopter_data = np.load(input_path + \"helicopter_image_data.npy\")\n",
        "missile_data = np.load(input_path + \"missile_image_data.npy\")\n",
        "plane_data = np.load(input_path + \"plane_image_data.npy\")\n",
        "rocket_data = np.load(input_path + \"rocket_image_data.npy\")"
      ],
      "execution_count": null,
      "outputs": []
    },
    {
      "cell_type": "code",
      "metadata": {
        "scrolled": true,
        "id": "pDFRwBrH92QU",
        "colab_type": "code",
        "colab": {
          "base_uri": "https://localhost:8080/",
          "height": 285
        },
        "outputId": "91cdafa1-eb6a-45a2-987f-d08fb844b8b8"
      },
      "source": [
        "#show one sample from each data array\n",
        "plt.imshow(drone_data[19])"
      ],
      "execution_count": null,
      "outputs": [
        {
          "output_type": "execute_result",
          "data": {
            "text/plain": [
              "<matplotlib.image.AxesImage at 0x7fa08a045940>"
            ]
          },
          "metadata": {
            "tags": []
          },
          "execution_count": 5
        },
        {
          "output_type": "display_data",
          "data": {
            "image/png": "[encoded data removed]",
            "text/plain": [
              "<Figure size 432x288 with 1 Axes>"
            ]
          },
          "metadata": {
            "tags": [],
            "needs_background": "light"
          }
        }
      ]
    },
    {
      "cell_type": "code",
      "metadata": {
        "scrolled": true,
        "id": "7vPF6BPL92QZ",
        "colab_type": "code",
        "colab": {
          "base_uri": "https://localhost:8080/",
          "height": 285
        },
        "outputId": "1d16f170-f174-4aaa-d6dd-3e2a59cd46c4"
      },
      "source": [
        "plt.imshow(fighter_data[5])"
      ],
      "execution_count": null,
      "outputs": [
        {
          "output_type": "execute_result",
          "data": {
            "text/plain": [
              "<matplotlib.image.AxesImage at 0x7fa089b1be80>"
            ]
          },
          "metadata": {
            "tags": []
          },
          "execution_count": 6
        },
        {
          "output_type": "display_data",
          "data": {
            "image/png": "[encoded data removed]",
            "text/plain": [
              "<Figure size 432x288 with 1 Axes>"
            ]
          },
          "metadata": {
            "tags": [],
            "needs_background": "light"
          }
        }
      ]
    },
    {
      "cell_type": "code",
      "metadata": {
        "scrolled": true,
        "id": "DZ1C32jR92Qc",
        "colab_type": "code",
        "colab": {}
      },
      "source": [
        "plt.imshow(helicopter_data[29])"
      ],
      "execution_count": null,
      "outputs": []
    },
    {
      "cell_type": "code",
      "metadata": {
        "scrolled": true,
        "id": "q3bUp77p92Qf",
        "colab_type": "code",
        "colab": {}
      },
      "source": [
        "plt.imshow(missile_data[75])"
      ],
      "execution_count": null,
      "outputs": []
    },
    {
      "cell_type": "code",
      "metadata": {
        "scrolled": true,
        "id": "HIaOr_oo92Qi",
        "colab_type": "code",
        "colab": {}
      },
      "source": [
        "plt.imshow(plane_data[56])"
      ],
      "execution_count": null,
      "outputs": []
    },
    {
      "cell_type": "code",
      "metadata": {
        "scrolled": true,
        "id": "OPJtdAKi92Qm",
        "colab_type": "code",
        "colab": {}
      },
      "source": [
        "plt.imshow(rocket_data[68])"
      ],
      "execution_count": null,
      "outputs": []
    },
    {
      "cell_type": "code",
      "metadata": {
        "scrolled": true,
        "id": "E9KVR_XC92Qp",
        "colab_type": "code",
        "colab": {}
      },
      "source": [
        "drone_data_flat = drone_data.reshape(drone_data.shape[0], -1).T\n",
        "fighter_data_flat = fighter_data.reshape(fighter_data.shape[0], -1).T\n",
        "helicopter_data_flat = helicopter_data.reshape(helicopter_data.shape[0], -1).T\n",
        "missile_data_flat = missile_data.reshape(missile_data.shape[0], -1).T\n",
        "plane_data_flat = plane_data.reshape(plane_data.shape[0], -1).T\n",
        "rocket_data_flat = rocket_data.reshape(rocket_data.shape[0], -1).T"
      ],
      "execution_count": null,
      "outputs": []
    },
    {
      "cell_type": "code",
      "metadata": {
        "scrolled": true,
        "id": "I6MvLuMJ92Qs",
        "colab_type": "code",
        "colab": {
          "base_uri": "https://localhost:8080/",
          "height": 34
        },
        "outputId": "f19719e6-1c44-4c21-ff60-a89c89eacaaf"
      },
      "source": [
        "#concatenate all the data\n",
        "data_flattened_without_label = np.concatenate((drone_data_flat,fighter_data_flat,helicopter_data_flat,missile_data_flat,plane_data_flat,rocket_data_flat), axis = 1).astype(np.float32)\n",
        "data_flattened_without_label /= 255.0\n",
        "print(\"Shape of the unlabeled data matrix: \" + str(data_flattened_without_label.shape))"
      ],
      "execution_count": null,
      "outputs": [
        {
          "output_type": "stream",
          "text": [
            "Shape of the unlabeled data matrix: (12288, 8078)\n"
          ],
          "name": "stdout"
        }
      ]
    },
    {
      "cell_type": "code",
      "metadata": {
        "scrolled": true,
        "id": "e_XdjrC292Qv",
        "colab_type": "code",
        "colab": {
          "base_uri": "https://localhost:8080/",
          "height": 34
        },
        "outputId": "3b642fb5-87cb-46dc-9494-d6b84a17b15a"
      },
      "source": [
        "#one-hot encoding of the labels\n",
        "labels = np.array([1,0,0,0,0,0]).reshape(6,1)\n",
        "f_ix = 0\n",
        "l_ix = drone_data_flat.shape[1]\n",
        "for i in range(f_ix +1, l_ix):\n",
        "    labels = np.concatenate((labels, np.array([1,0,0,0,0,0]).reshape(6,1)), axis = 1)\n",
        "f_ix += drone_data_flat.shape[1]\n",
        "l_ix += fighter_data_flat.shape[1]\n",
        "for i in range(f_ix, l_ix):\n",
        "    labels = np.concatenate((labels, np.array([0,1,0,0,0,0]).reshape(6,1)), axis = 1)\n",
        "f_ix += fighter_data_flat.shape[1]\n",
        "l_ix += helicopter_data_flat.shape[1]\n",
        "for i in range(f_ix, l_ix):\n",
        "    labels = np.concatenate((labels, np.array([0,0,1,0,0,0]).reshape(6,1)), axis = 1)\n",
        "f_ix += helicopter_data_flat.shape[1]\n",
        "l_ix += missile_data_flat.shape[1]\n",
        "for i in range(f_ix, l_ix):\n",
        "    labels = np.concatenate((labels, np.array([0,0,0,1,0,0]).reshape(6,1)), axis = 1)\n",
        "f_ix += missile_data_flat.shape[1]\n",
        "l_ix += plane_data_flat.shape[1]\n",
        "for i in range(f_ix, l_ix):\n",
        "    labels = np.concatenate((labels, np.array([0,0,0,0,1,0]).reshape(6,1)), axis = 1)\n",
        "f_ix += plane_data_flat.shape[1]\n",
        "l_ix += rocket_data_flat.shape[1]\n",
        "for i in range(f_ix, l_ix):\n",
        "    labels = np.concatenate((labels, np.array([0,0,0,0,0,1]).reshape(6,1)), axis = 1)\n",
        "print(\"Shape of the one-hot encoded label matrix: \" + str(labels.shape))"
      ],
      "execution_count": null,
      "outputs": [
        {
          "output_type": "stream",
          "text": [
            "Shape of the one-hot encoded label matrix: (6, 8078)\n"
          ],
          "name": "stdout"
        }
      ]
    },
    {
      "cell_type": "code",
      "metadata": {
        "scrolled": true,
        "id": "ffINFy1X92Qx",
        "colab_type": "code",
        "colab": {
          "base_uri": "https://localhost:8080/",
          "height": 70
        },
        "outputId": "185893c0-a0f3-4ff3-8f4b-77da17857e4e"
      },
      "source": [
        "indexes = [i for i in range(labels.shape[1])]\n",
        "#shuufle the indexes\n",
        "np.random.shuffle(indexes)\n",
        "print(indexes[8000])\n",
        "print(indexes[8000:-1])"
      ],
      "execution_count": null,
      "outputs": [
        {
          "output_type": "stream",
          "text": [
            "3180\n",
            "[3180, 2959, 5571, 316, 7192, 3172, 1727, 1680, 4548, 6189, 2470, 7961, 5932, 4045, 4990, 1359, 6325, 30, 1609, 254, 3788, 4371, 2457, 1433, 7088, 3469, 341, 5044, 4692, 612, 7777, 4981, 4508, 3836, 7116, 7662, 5565, 5938, 700, 3791, 3194, 6081, 2688, 4049, 6763, 5171, 6370, 5465, 3266, 5585, 5632, 869, 7713, 7495, 6701, 1952, 5914, 2211, 5903, 892, 513, 2603, 6484, 6469, 4067, 5349, 2248, 3998, 7929, 185, 5157, 7932, 8075, 4908, 2012, 3531, 3675]\n"
          ],
          "name": "stdout"
        }
      ]
    },
    {
      "cell_type": "code",
      "metadata": {
        "scrolled": true,
        "id": "4ubNcF6Y92Q0",
        "colab_type": "code",
        "colab": {
          "base_uri": "https://localhost:8080/",
          "height": 50
        },
        "outputId": "e719c41b-c4f2-4c87-a4b2-b98e4b2bdbe5"
      },
      "source": [
        "#divide the data into train and test along with the labels\n",
        "train_percentage = int(labels.shape[1]*0.7) #use the 70% of the data as training data\n",
        "train_data = data_flattened_without_label[:,indexes[0:train_percentage]]\n",
        "train_label = labels[:,indexes[0:train_percentage]]\n",
        "test_data = data_flattened_without_label[:,indexes[train_percentage:-1]]\n",
        "test_label = labels[:,indexes[train_percentage:-1]]\n",
        "\n",
        "print(\"shape of the training set and training label\" + str([train_data.shape, train_label.shape]))\n",
        "print(\"shape of the training set and training label\" + str([test_data.shape, test_label.shape]))"
      ],
      "execution_count": null,
      "outputs": [
        {
          "output_type": "stream",
          "text": [
            "shape of the training set and training label[(12288, 5654), (6, 5654)]\n",
            "shape of the training set and training label[(12288, 2423), (6, 2423)]\n"
          ],
          "name": "stdout"
        }
      ]
    },
    {
      "cell_type": "code",
      "metadata": {
        "scrolled": true,
        "id": "ncj-hb3w92Q2",
        "colab_type": "code",
        "colab": {}
      },
      "source": [
        "#initializing parameters for multiclass logistic regression (one-vs-all)\n",
        "def initialize_parameters_LR(dataset_batch, num_classes):\n",
        "    nx, m = dataset_batch.shape[0], dataset_batch.shape[1] #number of features, number of data points respectively\n",
        "    W = np.random.randn(nx, num_classes) * 0.1\n",
        "    b = np.zeros((num_classes, 1))\n",
        "    return W, b"
      ],
      "execution_count": null,
      "outputs": []
    },
    {
      "cell_type": "code",
      "metadata": {
        "scrolled": true,
        "id": "HQXCaim692Q5",
        "colab_type": "code",
        "colab": {
          "base_uri": "https://localhost:8080/",
          "height": 34
        },
        "outputId": "f0def9b2-d212-4df7-8d39-895103b27114"
      },
      "source": [
        "W, b = initialize_parameters_LR(train_data, 6)\n",
        "W.shape, b.shape"
      ],
      "execution_count": null,
      "outputs": [
        {
          "output_type": "execute_result",
          "data": {
            "text/plain": [
              "((12288, 6), (6, 1))"
            ]
          },
          "metadata": {
            "tags": []
          },
          "execution_count": 25
        }
      ]
    },
    {
      "cell_type": "code",
      "metadata": {
        "scrolled": true,
        "id": "-VsQkkzN92Q8",
        "colab_type": "code",
        "colab": {}
      },
      "source": [
        "def sigmoid(x): \n",
        "    return 1 / (1 + np.exp(x*-1))"
      ],
      "execution_count": null,
      "outputs": []
    },
    {
      "cell_type": "markdown",
      "metadata": {
        "id": "vW7Qw6dt92Q_",
        "colab_type": "text"
      },
      "source": [
        "# Our Logistic Regression Model Represented as a Shallow Neural Network\n",
        "<img src=\"http://localhost:8888/notebooks/Desktop/Jupyter%20Projects/EE485/LRDiagram.png\" style=\"width:400px;height:400px;\">\n",
        "We build the model such that, given the data matrix $X$ in the input layer, the output $\\hat{y}$ is formulated with\n",
        "$$\\hat{Y} = \\sigma(W^T X + b)$$ \n",
        "where $W$ is the weight matrix and $b$ is the bias vector. Here, each unit of the output layer is the prediction of the model for each class. \n",
        "\n",
        "We use the Cross-Entropy as loss function, \n",
        "$\\hat{Y} = \\sigma(w^T X + b) = (a^{(1)}, a^{(2)}, ..., a^{(m-1)}, a^{(m)})$\n",
        "$J = -\\frac{1}{m}\\sum_{i=1}^{m}y^{(i)}\\log(a^{(i)})+(1-y^{(i)})\\log(1-a^{(i)})$\n",
        "\n",
        "On the back-propagation stage, the gradients are calculated as,\n",
        "\n",
        "$$ \\frac{\\partial J}{\\partial w} = \\frac{1}{m}X(\\hat{Y}-Y)^T$$\n",
        "$$ \\frac{\\partial J}{\\partial b} = \\frac{1}{m} \\sum_{i=1}^m (a^{(i)}-y^{(i)})$$"
      ]
    },
    {
      "cell_type": "code",
      "metadata": {
        "scrolled": true,
        "id": "xD_9Syvv92Q_",
        "colab_type": "code",
        "colab": {}
      },
      "source": [
        "#compute the cost and the values predicted by the model\n",
        "def propagate(dataset, W, b, labels, regularization = \"L2\", llambda = 0.1):\n",
        "    m = dataset.shape[1]\n",
        "    #forward propagation==================================================================\n",
        "    \"\"\"\n",
        "    print(\"dataset: \" + str(dataset))\n",
        "    print(\"W,b: \" +str(W)+\" \"+str(b))\n",
        "    print(\"mult: \" + str(np.matmul(W.T, dataset)))\n",
        "    \"\"\"\n",
        "    Z = np.matmul(W.T, dataset) + b\n",
        "    #print(\"Z[0]: \" + str(Z[0]))\n",
        "    A = sigmoid(Z)\n",
        "    costs = []\n",
        "    for i in range(A.shape[0]):\n",
        "        #print(\"labels[i]: \" + str(labels[i]))\n",
        "        #print(\"A[i]: \" + str(A[i]))\n",
        "        if(regularization == \"none\"):\n",
        "          costs.append(np.sum(labels[i]*np.log(A[i]) + (1-labels[i])*np.log(1-A[i]))*(-1/m))\n",
        "        elif(regularization == \"L2\"):\n",
        "          costs.append(np.sum(labels[i]*np.log(A[i]) + (1-labels[i])*np.log(1-A[i]))*(-1/m) + ((llambda/(2*m)) * (np.sum(np.square(W)))))\n",
        "    #=====================================================================================\n",
        "    #print(\"costs: \" + str(costs))\n",
        "    #backward propagation=================================================================\n",
        "    dZ = A - labels\n",
        "    dW = np.matmul(dataset, dZ.T) * (1/m) + (llambda/m)*W\n",
        "    db = (1/m)*np.sum(dZ, axis = 1).reshape(b.shape[0], b.shape[1])\n",
        "    #print(str(dZ.shape) + \" \" + str(b.shape) + \" \" + str(db.shape))\n",
        "    assert(dW.shape == (W.shape))\n",
        "    assert(db.shape == (b.shape))\n",
        "    \n",
        "    return sum(costs), dW, db"
      ],
      "execution_count": null,
      "outputs": []
    },
    {
      "cell_type": "code",
      "metadata": {
        "scrolled": true,
        "id": "tlSjLyVA92RD",
        "colab_type": "code",
        "colab": {}
      },
      "source": [
        "#using mini-batch of size 64 gradient descent\n",
        "def train_datasetLR(dataset, labels, W, b, batch_size = 64, num_iterations = 1000, learning_rate = 0.05, beta1 = 0.9, beta2 = 0.999, epsilon = 1e-5):\n",
        "    costs = []\n",
        "    minCost = 50\n",
        "    vdW, sdW, vdb, sdb = 0, 0, 0, 0\n",
        "    for i in range(num_iterations):\n",
        "        #tmp_index = [i for i in range(dataset.shape[1])]\n",
        "        #np.random.shuffle(tmp_index)\n",
        "        for j in range(0, dataset.shape[1], batch_size):\n",
        "            train_batch = dataset[:,j:j+batch_size]\n",
        "            label_batch = labels[:, j:j+batch_size]\n",
        "            #compute the costs and the gradients\n",
        "            #print(\"Calculating the cost at iteration: \" + str(i))\n",
        "            cost, dW, db = propagate(train_batch, W, b, label_batch)\n",
        "            vdW = beta1 * vdW + (1-beta1)*dW\n",
        "            vdb = beta1 * vdb + (1-beta1)*db\n",
        "            sdW = beta2 * sdW + (1-beta2)*(dW**2)\n",
        "            sdb = beta2 * sdb + (1-beta2)*(db**2)\n",
        "            #print(\"vdw, vdb, sdw, sdb: \" + str(vdW)+str(vdb)+str(sdW)+str(sdb))\n",
        "            vdWcor = vdW / (1 - (beta1**(i+1)))\n",
        "            vdbcor = vdb / (1 - (beta1**(i+1)))\n",
        "            sdWcor = sdW / (1 - (beta2**(i+1)))\n",
        "            sdbcor = sdb / (1 - (beta2**(i+1)))\n",
        "            #print(\"vdwcor, vdb, sdw, sdb: \" + str(vdWcor)+str(vdbcor)+str(sdWcor)+str(sdbcor))\n",
        "            if(minCost > cost):\n",
        "                minCost = cost\n",
        "            \n",
        "            #update the values with gradients and learning rate\n",
        "            #print(\"W,b bef:\" + str(W)+str(b))\n",
        "            W = W - learning_rate * vdWcor / ((sdWcor)**(0.5) + epsilon)\n",
        "            b = b - learning_rate * vdbcor / ((sdbcor)**(0.5) + epsilon)\n",
        "            \n",
        "            #print(\"W,b after:\" + str(W)+str(b))\n",
        "            \n",
        "            if(i % 500 == 0 and j == 0):\n",
        "                print(\"Cost after iteration \" + str(i) + \": \" + str(cost))\n",
        "                costs.append(cost)\n",
        "    \n",
        "    plt.title(\"Change of costs in time\")\n",
        "    plt.xlabel(\"number of iterations\")\n",
        "    plt.ylabel(\"cost\")\n",
        "    plt.plot(costs)\n",
        "    print(\"Minimum cost obtained: \" + str(minCost))\n",
        "    return W, b"
      ],
      "execution_count": null,
      "outputs": []
    },
    {
      "cell_type": "code",
      "metadata": {
        "id": "pIgDa9mg92RF",
        "colab_type": "code",
        "colab": {}
      },
      "source": [
        "tt = 5000\n",
        "bs = 32\n",
        "ttt = [x for x in range(tt)]\n",
        "for i in range(3):\n",
        "    print(\"cycle\")\n",
        "    for j in range(0, tt, bs):\n",
        "        print(ttt[j:j+bs])\n",
        "\"\"\"for i in range(tt - tt%bs, tt):\n",
        "    print(i)\"\"\""
      ],
      "execution_count": null,
      "outputs": []
    },
    {
      "cell_type": "code",
      "metadata": {
        "scrolled": false,
        "id": "5IiMNZ6n92RI",
        "colab_type": "code",
        "colab": {
          "base_uri": "https://localhost:8080/",
          "height": 302
        },
        "outputId": "ce0e5616-fb78-426f-ca93-4f998e0e62c8"
      },
      "source": [
        "W, b = initialize_parameters_LR(train_data, train_label.shape[0])\n",
        "W, b = train_datasetLR(train_data, train_label,  W, b, batch_size = 128, num_iterations = 10000,learning_rate = 0.0005, beta1 = 0.9, epsilon = 1e-8)\n",
        "#weights.append([W,b])\n"
      ],
      "execution_count": null,
      "outputs": [
        {
          "output_type": "stream",
          "text": [
            "Cost after iteration 0: 22.20548975859383\n",
            "Cost after iteration 500: 2.8177062297754265\n",
            "Cost after iteration 1000: 2.482336915512596\n",
            "Cost after iteration 1500: 2.5434201483275594\n",
            "Cost after iteration 2000: 2.584896201330383\n",
            "Cost after iteration 2500: 2.6325612141541384\n",
            "Cost after iteration 3000: 2.736346780535752\n",
            "Cost after iteration 3500: 2.701382184007264\n",
            "Cost after iteration 4000: 2.7417569007772715\n",
            "Cost after iteration 4500: 2.7346857870662014\n",
            "Cost after iteration 5000: 2.7666999077516845\n",
            "Cost after iteration 5500: 2.762562335444364\n",
            "Cost after iteration 6000: 2.7542607935970396\n",
            "Cost after iteration 6500: 2.7557778662089443\n",
            "Cost after iteration 7000: 2.745757521064802\n",
            "Cost after iteration 7500: 2.748455841962264\n",
            "Cost after iteration 8000: 2.812871633808153\n"
          ],
          "name": "stdout"
        }
      ]
    },
    {
      "cell_type": "code",
      "metadata": {
        "scrolled": true,
        "id": "n_CIxTJf92RO",
        "colab_type": "code",
        "colab": {}
      },
      "source": [
        "def predict(dataset, W, b, labels):\n",
        "    Z = np.matmul(W.T, dataset) + b\n",
        "    A = sigmoid(Z)\n",
        "    m = dataset.shape[1]\n",
        "    true_pred = 0\n",
        "    preds = []\n",
        "    for i in range(A.shape[1]):\n",
        "        pred_ix = np.argmax(A.T[i])\n",
        "        if(labels.T[i][pred_ix] == 1):\n",
        "            true_pred += 1\n",
        "        preds.append(pred_ix)\n",
        "    return true_pred / m, preds"
      ],
      "execution_count": null,
      "outputs": []
    },
    {
      "cell_type": "code",
      "metadata": {
        "id": "N0Ybx-CrYqRN",
        "colab_type": "code",
        "colab": {
          "base_uri": "https://localhost:8080/",
          "height": 648
        },
        "outputId": "9f1b100a-0148-47d0-f67d-3a872881ba6c"
      },
      "source": [
        "W1, b1 = np.load(input_path + \"90-33acc_W.npy\"), np.load(input_path + \"90-33acc_b.npy\")\n",
        "W2, b2 = train_datasetLR(train_data, train_label,  W1, b1, batch_size = 128, num_iterations = 10000,learning_rate = 0.0005, beta1 = 0.9, epsilon = 1e-8)"
      ],
      "execution_count": null,
      "outputs": [
        {
          "output_type": "stream",
          "text": [
            "Cost after iteration 0: 3.7168679125102084\n",
            "Cost after iteration 500: 3.788239006928505\n",
            "Cost after iteration 1000: 3.7156041996084226\n",
            "Cost after iteration 1500: 3.4879187026283294\n",
            "Cost after iteration 2000: 3.4893878040602595\n",
            "Cost after iteration 2500: 3.7218500624366753\n",
            "Cost after iteration 3000: 3.314160620503146\n",
            "Cost after iteration 3500: 3.3489093017122444\n",
            "Cost after iteration 4000: 3.32578049340428\n",
            "Cost after iteration 4500: 3.1816072166392857\n",
            "Cost after iteration 5000: 3.1280649652038375\n",
            "Cost after iteration 5500: 3.2973335113484556\n",
            "Cost after iteration 6000: 3.103081032672552\n",
            "Cost after iteration 6500: 3.320235999932722\n",
            "Cost after iteration 7000: 3.0768259234711923\n",
            "Cost after iteration 7500: 3.196578093559781\n",
            "Cost after iteration 8000: 3.091162822869412\n",
            "Cost after iteration 8500: 3.200708092984914\n",
            "Cost after iteration 9000: 3.1658736247049695\n",
            "Cost after iteration 9500: 3.221368741154849\n",
            "Minimum cost obtained: 2.845060926205822\n"
          ],
          "name": "stdout"
        },
        {
          "output_type": "display_data",
          "data": {
            "image/png": "[encoded data removed]",
            "text/plain": [
              "<Figure size 432x288 with 1 Axes>"
            ]
          },
          "metadata": {
            "tags": [],
            "needs_background": "light"
          }
        }
      ]
    },
    {
      "cell_type": "code",
      "metadata": {
        "scrolled": true,
        "id": "KUSlGptb92RR",
        "colab_type": "code",
        "colab": {
          "base_uri": "https://localhost:8080/",
          "height": 50
        },
        "outputId": "ae9286f4-a1ea-4f46-ce6d-6d79a535dfa6"
      },
      "source": [
        "train_accuracy, predstrain = predict(train_data, W2,b2, train_label) \n",
        "test_accuracy, predstest = predict(test_data, W2,b2, test_label)\n",
        "print(\"Training set accuracy: \" + str(train_accuracy))\n",
        "print(\"Test set accuracy: \" + str(test_accuracy))"
      ],
      "execution_count": null,
      "outputs": [
        {
          "output_type": "stream",
          "text": [
            "Training set accuracy: 0.7958967102935974\n",
            "Test set accuracy: 0.5683037556747833\n"
          ],
          "name": "stdout"
        }
      ]
    },
    {
      "cell_type": "code",
      "metadata": {
        "scrolled": true,
        "id": "ZF0P0Ysf92RU",
        "colab_type": "code",
        "colab": {}
      },
      "source": [
        "np.save(input_path + \"90-33acc_W\", W)\n",
        "np.save(input_path + \"90-33acc_b\", b)"
      ],
      "execution_count": null,
      "outputs": []
    },
    {
      "cell_type": "code",
      "metadata": {
        "id": "LZ0VnJOl92RX",
        "colab_type": "code",
        "colab": {},
        "outputId": "f6499ee0-e4f5-4d78-a34f-d037b4d91c22"
      },
      "source": [
        "train_label[:,100], predstrain[100]"
      ],
      "execution_count": null,
      "outputs": [
        {
          "output_type": "execute_result",
          "data": {
            "text/plain": [
              "(array([0, 0, 0, 1, 0, 0]), 3)"
            ]
          },
          "metadata": {
            "tags": []
          },
          "execution_count": 138
        }
      ]
    }
  ]
}